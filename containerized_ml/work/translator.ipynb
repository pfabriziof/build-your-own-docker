{
 "cells": [
  {
   "cell_type": "code",
   "execution_count": 11,
   "id": "167c0f2b-c1be-4d78-90ce-38754b9b9478",
   "metadata": {},
   "outputs": [
    {
     "name": "stderr",
     "output_type": "stream",
     "text": [
      "No model was supplied, defaulted to google-t5/t5-base and revision a9723ea (https://huggingface.co/google-t5/t5-base).\n",
      "Using a pipeline without specifying a model name and revision in production is not recommended.\n",
      "All PyTorch model weights were used when initializing TFT5ForConditionalGeneration.\n",
      "\n",
      "All the weights of TFT5ForConditionalGeneration were initialized from the PyTorch model.\n",
      "If your task is similar to the task the model of the checkpoint was trained on, you can already use TFT5ForConditionalGeneration for predictions without further training.\n",
      "Device set to use 0\n"
     ]
    }
   ],
   "source": [
    "from transformers import pipeline\n",
    "\n",
    "translator = pipeline(\"translation_en_to_fr\")"
   ]
  },
  {
   "cell_type": "code",
   "execution_count": 14,
   "id": "231e8bc1-f53e-4187-8cf0-6119f6e39d18",
   "metadata": {},
   "outputs": [],
   "source": [
    "fr = translator(\"Hello, my name is Paolo and I'm not a conventional developer\")"
   ]
  },
  {
   "cell_type": "code",
   "execution_count": 16,
   "id": "213aebc7-4e3c-47ad-bb01-1073e6286d31",
   "metadata": {},
   "outputs": [
    {
     "data": {
      "text/plain": [
       "'Bonjour, mon nom est Paolo et je ne suis pas un développeur conventionnel'"
      ]
     },
     "execution_count": 16,
     "metadata": {},
     "output_type": "execute_result"
    }
   ],
   "source": [
    "fr[0]['translation_text']"
   ]
  },
  {
   "cell_type": "code",
   "execution_count": 23,
   "id": "30bb9ed0-b8a8-4d30-833e-504ebe47c06a",
   "metadata": {},
   "outputs": [],
   "source": [
    "import pysrt\n",
    "\n",
    "subs = pysrt.open('captions_english.srt')\n",
    "\n",
    "for i in subs:\n",
    "    # print(i)\n",
    "    fr_tr = translator(i.text)[0]['translation_text']\n",
    "    i.text = fr_tr\n",
    "\n",
    "subs.save('captions_french.srt')"
   ]
  }
 ],
 "metadata": {
  "kernelspec": {
   "display_name": "Python 3 (ipykernel)",
   "language": "python",
   "name": "python3"
  },
  "language_info": {
   "codemirror_mode": {
    "name": "ipython",
    "version": 3
   },
   "file_extension": ".py",
   "mimetype": "text/x-python",
   "name": "python",
   "nbconvert_exporter": "python",
   "pygments_lexer": "ipython3",
   "version": "3.11.6"
  }
 },
 "nbformat": 4,
 "nbformat_minor": 5
}
